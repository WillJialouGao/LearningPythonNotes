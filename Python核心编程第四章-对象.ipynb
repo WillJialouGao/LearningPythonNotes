{
 "cells": [
  {
   "cell_type": "code",
   "execution_count": null,
   "metadata": {},
   "outputs": [],
   "source": [
    "#常用内建类型，标准类型操作符和内建函数\n",
    "#Python使用对象模型来存储数据\n",
    "#所有Python对象都有三个特性：身份、类型和值。身份：每个对象都有一个唯一的身份标识自己，类似于内存地址；\n",
    "#类型：对象的类型决定了该对象可以保存什么类型的值和可以进行什么样的操作，可用type()查看\n",
    "#值：对象表示的数据项\n",
    "#对象一旦创建，类型和身份就是不可变的，值可能可以改变\n",
    "#Python对象包括属性、值和方法\n",
    "#标准类型分为：数字类型、字符串类型、列表、元组和字典\n",
    "#其他内建类型：类型(type)，Null对象(None)，文件，函数，模块和类"
   ]
  },
  {
   "cell_type": "code",
   "execution_count": 2,
   "metadata": {},
   "outputs": [
    {
     "data": {
      "text/plain": [
       "type"
      ]
     },
     "execution_count": 2,
     "metadata": {},
     "output_type": "execute_result"
    }
   ],
   "source": [
    "#类型对象\n",
    "#类型用于保存对象的一系列固有行为和属性\n",
    "type(42)\n",
    "type(type(42))\n",
    "#类型类是所有Python类型的根，默认元类"
   ]
  },
  {
   "cell_type": "code",
   "execution_count": 12,
   "metadata": {},
   "outputs": [
    {
     "data": {
      "text/plain": [
       "True"
      ]
     },
     "execution_count": 12,
     "metadata": {},
     "output_type": "execute_result"
    }
   ],
   "source": [
    "#标准类型操作符\n",
    "#1.对象值的比较\n",
    "#比较操作符用来判断同类型对象是否相等，返回的是布尔型\n",
    "2==2\n",
    "#5.+2.j >= 1.+.2j   python3不支持复数类型的比较\n",
    "'abc' == 'abC'\n",
    "'abc' > 'xyz'   #字符串按照序列值进行比较\n",
    "'abcd' > 'x'    \n",
    "#2. 对象身份的比较\n",
    "num1 = num2 = 1.   #num1和num2指向相同的对象\n",
    "num1 is num2 \n",
    "num1 = 1. \n",
    "num2 = 0.2 + 0.8   #num1和num2值相同但是身份不一样\n",
    "num1 is num2\n",
    "num1 is not num2\n",
    "#3. 逻辑操作符\n",
    "not 2>3\n",
    "not (2>3 and 2==2.2 or 'abc'>'x')"
   ]
  },
  {
   "cell_type": "code",
   "execution_count": 16,
   "metadata": {},
   "outputs": [
    {
     "data": {
      "text/plain": [
       "'[1.2, 2]'"
      ]
     },
     "execution_count": 16,
     "metadata": {},
     "output_type": "execute_result"
    }
   ],
   "source": [
    "#标准类型内建函数\n",
    "#type,实际上是一个工厂函数\n",
    "type(3)\n",
    "type(int)\n",
    "#str和''操作符，实际上也是工厂函数\n",
    "str([1.2,2])"
   ]
  }
 ],
 "metadata": {
  "kernelspec": {
   "display_name": "Python 3",
   "language": "python",
   "name": "python3"
  },
  "language_info": {
   "codemirror_mode": {
    "name": "ipython",
    "version": 3
   },
   "file_extension": ".py",
   "mimetype": "text/x-python",
   "name": "python",
   "nbconvert_exporter": "python",
   "pygments_lexer": "ipython3",
   "version": "3.7.4"
  }
 },
 "nbformat": 4,
 "nbformat_minor": 2
}
