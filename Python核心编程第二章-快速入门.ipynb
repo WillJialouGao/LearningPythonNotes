{
 "cells": [
  {
   "cell_type": "code",
   "execution_count": 3,
   "metadata": {},
   "outputs": [
    {
     "name": "stdout",
     "output_type": "stream",
     "text": [
      "10*10=100\n",
      "you are right!\n"
     ]
    }
   ],
   "source": [
    "#简单的程序输入/输出函数\n",
    "a = int(input('10*10='))\n",
    "if a == 100:\n",
    "    print('you are right!')\n",
    "else:\n",
    "    print('Stupid, man')"
   ]
  },
  {
   "cell_type": "code",
   "execution_count": 7,
   "metadata": {},
   "outputs": [
    {
     "data": {
      "text/plain": [
       "1000000"
      ]
     },
     "execution_count": 7,
     "metadata": {},
     "output_type": "execute_result"
    }
   ],
   "source": [
    "2//3  #取商\n",
    "2%3   #取余\n",
    "a**3  #幂"
   ]
  },
  {
   "cell_type": "code",
   "execution_count": 11,
   "metadata": {},
   "outputs": [
    {
     "data": {
      "text/plain": [
       "True"
      ]
     },
     "execution_count": 11,
     "metadata": {},
     "output_type": "execute_result"
    }
   ],
   "source": [
    "#标准比较操作符，根据表达式的值的真假返回布尔值;逻辑操作符，and or not；合理使用括号可以增加程序的可读性\n",
    "2<4 and 3<=4 or 1!=0 \n",
    "2<a<100   #这种表达方式很方便\n",
    "not 2==3"
   ]
  },
  {
   "cell_type": "code",
   "execution_count": 13,
   "metadata": {},
   "outputs": [
    {
     "name": "stdout",
     "output_type": "stream",
     "text": [
      "20\n",
      "(2+0.2j)\n"
     ]
    }
   ],
   "source": [
    "#Python是动态性语言，不需要预先声明变量的类型\n",
    "counter = 0\n",
    "for i in range(10):\n",
    "    counter += 2\n",
    "print(counter)\n",
    "complexNum = 2.+.2j\n",
    "print(complexNum)\n",
    "name = 'Jialou Gao'\n",
    "miles = 100.0\n",
    "kilometers = 1.609 * miles"
   ]
  },
  {
   "cell_type": "code",
   "execution_count": 16,
   "metadata": {},
   "outputs": [
    {
     "name": "stdout",
     "output_type": "stream",
     "text": [
      "1.11\n"
     ]
    }
   ],
   "source": [
    "#Python支持的数字类型包括：有符号整型(整型，长整型和布尔型)，浮点数，复数\n",
    "#还有第6种类型是decimal，需要先导入decimal模块\n",
    "import decimal\n",
    "print(decimal.Decimal('1.11'))"
   ]
  },
  {
   "cell_type": "code",
   "execution_count": 18,
   "metadata": {},
   "outputs": [
    {
     "name": "stdout",
     "output_type": "stream",
     "text": [
      "I am Jialou Gao\n",
      "I am Jia\n"
     ]
    }
   ],
   "source": [
    "#成对的单引号包含特殊字符，索引操作符[]和切片操作符[:]来访问其中的字符元素，+号用于字符串连接运算，*号用于字符串重复\n",
    "str_a = 'I am '\n",
    "str_b = 'Jialou Gao'\n",
    "str_c = str_a + str_b\n",
    "print(str_c)\n",
    "print(str_a + str_b[:3])"
   ]
  },
  {
   "cell_type": "code",
   "execution_count": 20,
   "metadata": {},
   "outputs": [
    {
     "data": {
      "text/plain": [
       "[1, (0.2+2j), 'ABC']"
      ]
     },
     "execution_count": 20,
     "metadata": {},
     "output_type": "execute_result"
    }
   ],
   "source": [
    "#列表用[]囊括，元组用()囊括；列表元素数目和值可以修改，而元组不可以\n",
    "aTuple = (1,.2+2.j,'abc')\n",
    "aTuple[1]   \n",
    "aList = [1,.2+2.j,'abc']\n",
    "aList[2] = 'ABC'\n",
    "aList"
   ]
  },
  {
   "cell_type": "code",
   "execution_count": 1,
   "metadata": {},
   "outputs": [
    {
     "name": "stdout",
     "output_type": "stream",
     "text": [
      "Jialou\n",
      "Will\n"
     ]
    },
    {
     "data": {
      "text/plain": [
       "dict_keys([1, 'Two'])"
      ]
     },
     "execution_count": 1,
     "metadata": {},
     "output_type": "execute_result"
    }
   ],
   "source": [
    "#字典是Python种的映射数据类型，由键-值(key-values)对(items)构成，几乎所有的Python对象都可以用作键，值也可以是任意对象，包括函数\n",
    "aDict = {1:'Jialou','Two':'Will'}\n",
    "aDict.keys()\n",
    "aDict['Two']   #访问元素使用键\n",
    "for i in aDict:   #键还可以作为迭代器\n",
    "    print(aDict[i])  \n",
    "aDict.keys()"
   ]
  },
  {
   "cell_type": "code",
   "execution_count": 2,
   "metadata": {},
   "outputs": [
    {
     "name": "stdout",
     "output_type": "stream",
     "text": [
      "please input a number:-100\n",
      "The number is less than zero.\n"
     ]
    }
   ],
   "source": [
    "#if语句\n",
    "a = int(input('please input a number:'))\n",
    "if a < 0:\n",
    "    print('The number is less than zero.')\n",
    "elif a == 0:\n",
    "    print('The number is equal zero')\n",
    "else:\n",
    "    print(a)"
   ]
  },
  {
   "cell_type": "code",
   "execution_count": 3,
   "metadata": {},
   "outputs": [
    {
     "name": "stdout",
     "output_type": "stream",
     "text": [
      "please input a floating number that less than 10.0:2\n",
      "10.0\n"
     ]
    }
   ],
   "source": [
    "#while语句\n",
    "a = float(input('please input a floating number that less than 10.0:'))\n",
    "while a < 10.0:\n",
    "    a += 1\n",
    "print(a)"
   ]
  },
  {
   "cell_type": "code",
   "execution_count": 9,
   "metadata": {
    "collapsed": true
   },
   "outputs": [
    {
     "name": "stdout",
     "output_type": "stream",
     "text": [
      "I like using internet for \n",
      "email \n",
      "gaming \n",
      "coding \n",
      "a\n",
      "b\n",
      "c\n",
      "d\n",
      "e\n",
      "f\n",
      "g\n",
      "a 0\n",
      "b 1\n",
      "c 2\n",
      "d 3\n",
      "e 4\n",
      "f 5\n",
      "g 6\n"
     ]
    }
   ],
   "source": [
    "#for循环语句和range()等内建函数\n",
    "#Python的for循环接受可迭代对象(如序列或迭代器)作为其参数，每次迭代其中一个参数\n",
    "print('I like using internet for ')\n",
    "for items in ['email','gaming','coding']:\n",
    "    print(items+' ',)\n",
    "str = 'abcdefg'\n",
    "for i in range(7):   #range内置函数可以生成一个数字列表，列表是一个可迭代对象\n",
    "    print(str[i],)\n",
    "for i, ch in enumerate(str):   #enumerate内置函数可以组合索引和值\n",
    "    print(ch+' %d'%i,)"
   ]
  },
  {
   "cell_type": "code",
   "execution_count": 8,
   "metadata": {},
   "outputs": [
    {
     "name": "stdout",
     "output_type": "stream",
     "text": [
      "[0, 4, 16, 36, 64]\n"
     ]
    }
   ],
   "source": [
    "#列表解析，一个强大的语句表达形式，很简洁\n",
    "list1 = [x**2 for x in range(10) if x%2 == 0]\n",
    "print(list1)"
   ]
  },
  {
   "cell_type": "code",
   "execution_count": null,
   "metadata": {},
   "outputs": [],
   "source": [
    "#文件访问是关键的一环\n",
    "#open()打开文件\n",
    "filename = input('Enter the file name:')\n",
    "fobj = open(filename,'r')\n",
    "for eachLine in fobj:\n",
    "    print(eachLine)\n",
    "fobj.close()"
   ]
  },
  {
   "cell_type": "code",
   "execution_count": null,
   "metadata": {},
   "outputs": [],
   "source": [
    "#Python允许在程序运行时检测错误；给代码添加错误检测，需要将代码块封装在try-except语句中\n",
    "#try代码组是打算管理的代码，except之后的代码组，则是处理错误的代码\n",
    "try:\n",
    "    filename = input('Enter the file name:')\n",
    "    fobj = open(filename,'r')\n",
    "    for eachLine in fobj:\n",
    "        print(eachLine)\n",
    "    fobj.close()\n",
    "except IOError:\n",
    "    print('The file is missing...')"
   ]
  },
  {
   "cell_type": "code",
   "execution_count": 13,
   "metadata": {},
   "outputs": [
    {
     "data": {
      "text/plain": [
       "4"
      ]
     },
     "execution_count": 13,
     "metadata": {},
     "output_type": "execute_result"
    }
   ],
   "source": [
    "#函数，函数在调用之前必须要定义；如果函数没有return语句，则自动返回一个none对象\n",
    "#还有一点很重要，这是与C的最大的区别，就是Python的函数是通过引用调用的，这意味着函数内对参数的改变会影响到原始可变对象\n",
    "def f(x):\n",
    "    return x**2 + 2*x + 1\n",
    "f(10)\n",
    "#Python的函数还支持默认参数\n",
    "def f_re(x = 2):\n",
    "    return x+x\n",
    "f_re('a')\n",
    "f_re()"
   ]
  },
  {
   "cell_type": "code",
   "execution_count": 21,
   "metadata": {},
   "outputs": [
    {
     "name": "stdout",
     "output_type": "stream",
     "text": [
      "Created a class instance for  Jialou Gao\n",
      "Your name is Jialou Gao \n",
      "My name is FooClass \n",
      "The version of the class is 1.000000\n"
     ]
    }
   ],
   "source": [
    "#类是面向对象编程的核心，扮演着相关数据及逻辑容器的角色，提供了创建真实对象的蓝图\n",
    "class FooClass(object):   #可以提供一个可选的父类或者说基类，如何没有合适的基类，则使用object\n",
    "    \"\"\"My first class: FooClass\"\"\"   #可选的文档字符串\n",
    "    version = 1.0         #静态成员定义\n",
    "    def __init__(self, nm = 'Jialou Gao'):    #方法定义,self是类实例自身的引用\n",
    "        self.name = nm\n",
    "        print('Created a class instance for ',nm)\n",
    "    def showname(self):\n",
    "        print('Your name is %s '%self.name)\n",
    "        print('My name is %s '%self.__class__.__name__)  #self.__class__是类实例的实际类对象\n",
    "    def showver(self):\n",
    "        print('The version of the class is %f'%self.version)\n",
    "    def addMe2Me(self,x = 2):\n",
    "        return x+x\n",
    "aFoo = FooClass()\n",
    "aFoo.showname()\n",
    "aFoo.addMe2Me('abc')\n",
    "aFoo.showver()"
   ]
  },
  {
   "cell_type": "code",
   "execution_count": 24,
   "metadata": {},
   "outputs": [
    {
     "name": "stdout",
     "output_type": "stream",
     "text": [
      "hello,world"
     ]
    },
    {
     "data": {
      "text/plain": [
       "'3.7.4 (default, Aug  9 2019, 18:34:13) [MSC v.1915 64 bit (AMD64)]'"
      ]
     },
     "execution_count": 24,
     "metadata": {},
     "output_type": "execute_result"
    }
   ],
   "source": [
    "#模块是一种组织方式，它将彼此有联系的Python代码组织在一个个独立的文件中，模块可以包含可执行的代码、函数和类，或者这些东西的组合\n",
    "#当创建了一个Python源文件，模块的名字就是不带.py后缀的文件名。使用import语句来导入这个模块进行使用\n",
    "import sys\n",
    "sys.stdout.write('hello,world')\n",
    "sys.platform\n",
    "sys.version"
   ]
  },
  {
   "cell_type": "code",
   "execution_count": null,
   "metadata": {},
   "outputs": [],
   "source": [
    "#"
   ]
  }
 ],
 "metadata": {
  "kernelspec": {
   "display_name": "Python 3",
   "language": "python",
   "name": "python3"
  },
  "language_info": {
   "codemirror_mode": {
    "name": "ipython",
    "version": 3
   },
   "file_extension": ".py",
   "mimetype": "text/x-python",
   "name": "python",
   "nbconvert_exporter": "python",
   "pygments_lexer": "ipython3",
   "version": "3.7.4"
  }
 },
 "nbformat": 4,
 "nbformat_minor": 2
}
