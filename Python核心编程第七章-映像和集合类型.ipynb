{
 "cells": [
  {
   "cell_type": "code",
   "execution_count": 11,
   "metadata": {
    "collapsed": true
   },
   "outputs": [
    {
     "name": "stdout",
     "output_type": "stream",
     "text": [
      "name, Jialou Gao\n",
      "age, 24\n",
      "name, Jialou Gao\n",
      "age, 24\n"
     ]
    },
    {
     "data": {
      "text/plain": [
       "{'name': 'Jialou Gao', 'age': 24, 'sex': 'male'}"
      ]
     },
     "execution_count": 11,
     "metadata": {},
     "output_type": "execute_result"
    }
   ],
   "source": [
    "#字典是python唯一的映射类型，包含键-值对；一个字典对象是可变容器。\n",
    "#1. 创建字典对象\n",
    "dict1 = {}\n",
    "dict2 = {'name':'Jialou Gao','age':24}\n",
    "dict1, dict2\n",
    "#字典工厂方法创建字典\n",
    "dict3 = dict((['name','Jialou Gao'],['age',24]))\n",
    "dict3\n",
    "#还可以用字典类型的方法fromkeys()来创建一个“默认\"字典\n",
    "dict4 = {}.fromkeys(('name','age'))\n",
    "dict4\n",
    "#2. 如何访问字典中的值\n",
    "for key in dict2.keys():   #字典的Keys方法返回由键组成的可迭代对象\n",
    "    print('%s, %s'%(key,dict2[key]))\n",
    "for key in dict2:      #字典是可迭代对象，返回的就是字典的键\n",
    "    print('%s, %s'%(key, dict2[key]))\n",
    "'sex' in dict2   #判断键是否存在\n",
    "dict2['sex'] = 'male'   #若存在则修改，若不存在则添加\n",
    "dict2\n",
    "#字典的键必须是可哈希的，也就是不变类型，所以不能用列表来作为键"
   ]
  },
  {
   "cell_type": "code",
   "execution_count": null,
   "metadata": {},
   "outputs": [],
   "source": [
    "#如何更新字典\n",
    "#添加一个新的数据项或元素，修改一个已存在的数据项"
   ]
  },
  {
   "cell_type": "code",
   "execution_count": 13,
   "metadata": {},
   "outputs": [
    {
     "data": {
      "text/plain": [
       "True"
      ]
     },
     "execution_count": 13,
     "metadata": {},
     "output_type": "execute_result"
    }
   ],
   "source": [
    "#字典的操作符\n",
    "#标准类型操作符，如身份、值比较和逻辑\n",
    "#映射类型操作符\n",
    "dict1 = {0:'abc',1:'cde'}\n",
    "dict1[0]\n",
    "0 in dict1"
   ]
  },
  {
   "cell_type": "code",
   "execution_count": 25,
   "metadata": {
    "collapsed": true
   },
   "outputs": [
    {
     "ename": "TypeError",
     "evalue": "unhashable type: 'list'",
     "output_type": "error",
     "traceback": [
      "\u001b[1;31m---------------------------------------------------------------------------\u001b[0m",
      "\u001b[1;31mTypeError\u001b[0m                                 Traceback (most recent call last)",
      "\u001b[1;32m<ipython-input-25-9a0cada0f801>\u001b[0m in \u001b[0;36m<module>\u001b[1;34m\u001b[0m\n\u001b[0;32m     13\u001b[0m \u001b[0mlen\u001b[0m\u001b[1;33m(\u001b[0m\u001b[0mdict7\u001b[0m\u001b[1;33m)\u001b[0m\u001b[1;33m\u001b[0m\u001b[1;33m\u001b[0m\u001b[0m\n\u001b[0;32m     14\u001b[0m \u001b[1;31m#hash方法用来判断一个对象是否可以作为键\u001b[0m\u001b[1;33m\u001b[0m\u001b[1;33m\u001b[0m\u001b[1;33m\u001b[0m\u001b[0m\n\u001b[1;32m---> 15\u001b[1;33m \u001b[0mhash\u001b[0m\u001b[1;33m(\u001b[0m\u001b[1;33m[\u001b[0m\u001b[1;33m]\u001b[0m\u001b[1;33m)\u001b[0m\u001b[1;33m\u001b[0m\u001b[1;33m\u001b[0m\u001b[0m\n\u001b[0m",
      "\u001b[1;31mTypeError\u001b[0m: unhashable type: 'list'"
     ]
    }
   ],
   "source": [
    "#映射类型相关的函数\n",
    "dict1 = dict((('x',2),('y',1)))\n",
    "dict1\n",
    "dict2 = dict([('x',2),('y',1)])\n",
    "dict2 \n",
    "dict3 = dict([['xy'[i-1],i] for i in range(1,3)])\n",
    "dict3\n",
    "dict4 = dict(x = 1, y = 2)\n",
    "dict4\n",
    "dict5 = dict(**dict4)  #?这个是什么运算符\n",
    "dict6 = dict(dict5)    #浅复制，但与字典的copy方法是一样的，不过copy方法更快\n",
    "dict7 = dict6.copy()\n",
    "len(dict7)\n",
    "#hash方法用来判断一个对象是否可以作为键\n",
    "hash([])  #会产生TypeError异常"
   ]
  },
  {
   "cell_type": "code",
   "execution_count": 19,
   "metadata": {},
   "outputs": [
    {
     "name": "stdout",
     "output_type": "stream",
     "text": [
      "name,Jialou Gao\n",
      "age,24\n",
      "age,24\n",
      "name,Jialou Gao\n"
     ]
    },
    {
     "data": {
      "text/plain": [
       "dict_items([('name', True), ('age', True)])"
      ]
     },
     "execution_count": 19,
     "metadata": {},
     "output_type": "execute_result"
    }
   ],
   "source": [
    "#映射类型的内建方法\n",
    "#试图查找一个字典里面没有的键值会产生keyerror的异常\n",
    "#基本的字典方法关注他们的键和值，keys()返回一个列表，包含字典中所有的键；values(),items()\n",
    "dict1 = {'name':'Jialou Gao','age':24}\n",
    "dict1.keys()\n",
    "dict1.values()\n",
    "dict1.items()\n",
    "for i in dict1.keys():   #需注意的是，它返回的值是没有顺序的\n",
    "    print('%s,%s'%(i, dict1[i]))    \n",
    "for i in sorted(dict1.keys()):\n",
    "    print('%s,%s'%(i, dict1[i]))\n",
    "#update方法用来将一个字典的内容添加到另一个字典中\n",
    "dict2 = {}\n",
    "dict2.update(dict1)\n",
    "dict2\n",
    "dict3 = {'name':'Will Gao','age': 24, 'Major':'EE'}\n",
    "dict2.update(dict3)\n",
    "dict3\n",
    "#get()方法，和键查找操作符相似，不同的是允许查找不存在的键提供默认值\n",
    "dict3.get('name')\n",
    "dict3.get('sex','There is no such key in this dict.')   #但是不会将这个不存在的键添加到原字典中，只是一个提示而已\n",
    "dict3\n",
    "#setdefault()方法，检查字典中是否存在某个键，如果存在则返回，如果不存在，则可以给这个键赋默认值并返回其值\n",
    "dict4 = {}\n",
    "dict4.setdefault('name','Jialou Gao')\n",
    "dict4.items()\n",
    "dict4.setdefault('name','Will Gao')\n",
    "dict4.items()\n",
    "#fromkeys()方法\n",
    "dict5 = {}.fromkeys(('name','age'))\n",
    "dict5.items()\n",
    "dict5 = {}.fromkeys(('name','age'),True)\n",
    "dict5.items()"
   ]
  },
  {
   "cell_type": "code",
   "execution_count": 20,
   "metadata": {},
   "outputs": [
    {
     "data": {
      "text/plain": [
       "dict_items([(1, 'Hello')])"
      ]
     },
     "execution_count": 20,
     "metadata": {},
     "output_type": "execute_result"
    }
   ],
   "source": [
    "#字典的键\n",
    "#字典的值是没有任何类型限制的，可以标准类型也可以是用户自定义的类型，但键是有限制的\n",
    "#1. 不允许一个键对应多个值\n",
    "#2. 键必须是可哈希的\n",
    "#所有不可变的类型都是可哈希的\n",
    "#需要说明的是数字，值相等的数字表示相同的键\n",
    "dict1 = {1:'Hi',1.0:'Hello'}\n",
    "dict1.items()\n",
    "#用元组作有效的键，比较要加以限制，即元组中只包括像数字和字符串这样的不可变参数"
   ]
  },
  {
   "cell_type": "code",
   "execution_count": null,
   "metadata": {},
   "outputs": [],
   "source": []
  }
 ],
 "metadata": {
  "kernelspec": {
   "display_name": "Python 3",
   "language": "python",
   "name": "python3"
  },
  "language_info": {
   "codemirror_mode": {
    "name": "ipython",
    "version": 3
   },
   "file_extension": ".py",
   "mimetype": "text/x-python",
   "name": "python",
   "nbconvert_exporter": "python",
   "pygments_lexer": "ipython3",
   "version": "3.7.4"
  }
 },
 "nbformat": 4,
 "nbformat_minor": 2
}
