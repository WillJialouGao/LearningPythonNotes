{
 "cells": [
  {
   "cell_type": "code",
   "execution_count": null,
   "metadata": {},
   "outputs": [],
   "source": [
    "#其他一些Python对象组成的序列\n",
    "#适用于所有序列类型的操作符和内建函数\n",
    "#序列有着相同的访问方式，每一个元素都可以通过指定一个偏移量的方式得到，多个元素可以通过切片的操作方式得到；\n",
    "#下标偏移量从0开始到-1结束"
   ]
  },
  {
   "cell_type": "code",
   "execution_count": 27,
   "metadata": {
    "collapsed": true
   },
   "outputs": [
    {
     "name": "stdout",
     "output_type": "stream",
     "text": [
      "abcde\n",
      "abcd\n",
      "abc\n",
      "ab\n",
      "a\n"
     ]
    }
   ],
   "source": [
    "#序列除了第四章介绍的标准类型操作符外，还有：\n",
    "#序列类型操作符\n",
    "#1. 成员关系操作符\n",
    "'a' in 'abc'\n",
    "'y' not in 'abc'\n",
    "'abc' in [1,'ab']\n",
    "#2. 连接操作符\n",
    "'abc'+'Jialou'\n",
    "#type(range(5,10))\n",
    "[1,2]+[3,4]\n",
    "#join(['abc','Jialou'])\n",
    "#3. 重复操作符\n",
    "['abc']*3\n",
    "'abc'*3\n",
    "#4. 切片操作符，很重要，也很方便适用\n",
    "List1 = [1,2,3,4,5,6,7,8]\n",
    "List2 = List1[::-1]\n",
    "List2\n",
    "List3 = List1[::-2]\n",
    "List3\n",
    "List1[1:9]\n",
    "s = 'abcdef'\n",
    "for i in range(-1,-len(s),-1):\n",
    "    print(s[:i])"
   ]
  },
  {
   "cell_type": "code",
   "execution_count": 49,
   "metadata": {
    "collapsed": true
   },
   "outputs": [
    {
     "name": "stdout",
     "output_type": "stream",
     "text": [
      "['a', 'b', 'c', 'd']\n",
      "('a', 'b', 'c', 'd')\n",
      "[2, 'abc']\n",
      "0 a\n",
      "1 b\n",
      "2 c\n",
      "3 d\n",
      "9\n",
      "8\n",
      "7\n",
      "6\n",
      "5\n",
      "4\n",
      "3\n",
      "2\n",
      "1\n",
      "0\n",
      "('a',)\n",
      "(2,)\n",
      "('abc',)\n"
     ]
    }
   ],
   "source": [
    "#内建函数\n",
    "#1. 类型转换函数\n",
    "print(list('abcd'))\n",
    "print(tuple('abcd'))\n",
    "print(list((2,'abc')))\n",
    "a = (2,2.+0.2j)\n",
    "b = list(a)\n",
    "b[1] is a[1]     #浅拷贝，只拷贝了对象的索引\n",
    "b[1] = 3         #改变了b[1]项，但b[0]项依然和a[0]是一个对象\n",
    "a\n",
    "b[1] is a[1]     \n",
    "b[0] is a[0]\n",
    "#2. 可操作内建函数\n",
    "for i,vol in enumerate('abcd'):   #接收一个可迭代对象作为参数，返回一个enumerate对象，该对象生成由iter每个元素的index值和item组成的元组\n",
    "    print(i,vol)\n",
    "len('abcd')\n",
    "for i in reversed(range(10)):     #reversed函数接收一个可迭代对象，返回一个以逆序列访问的迭代器\n",
    "    print(i)\n",
    "sum((1,2,3.0+0.2j))    #返回seq的总和\n",
    "for i in zip(['a',2,'abc']):   #zip提供了类似于解压缩的功能，返回一个可迭代对象，其第一个元素是第一个元素组成的元组...\n",
    "    print(i)"
   ]
  },
  {
   "cell_type": "code",
   "execution_count": 68,
   "metadata": {},
   "outputs": [
    {
     "name": "stdout",
     "output_type": "stream",
     "text": [
      "<class 'str'>\n",
      "Hello, worabc\n"
     ]
    },
    {
     "data": {
      "text/plain": [
       "'abc%s'"
      ]
     },
     "execution_count": 68,
     "metadata": {},
     "output_type": "execute_result"
    }
   ],
   "source": [
    "#字符串\n",
    "#在Python中，单引号和双引号的作用是相同的\n",
    "#字符串是不可变类型\n",
    "#1. 字符串的创建和赋值\n",
    "aString = 'Hello, world'\n",
    "aStr2 = str([1,2])\n",
    "print(type(aStr2))\n",
    "#2. 字符串的索引和切片\n",
    "aString[:10]\n",
    "aString[::-1]\n",
    "#3. 如何改变字符串\n",
    "aString = aString[:10] + 'abc'\n",
    "print(aString)    #字符串是不可变类型，不能只改变字符串的一个字符或一个子串\n",
    "#4. 字符串相关操作符\n",
    "#4.1 标准类型操作符，如身份比较，值比较和逻辑运算\n",
    "#4.2 序列类型操作符，如成员关系、连接和重复、切片\n",
    "'a' in 'abc'\n",
    "'abc''abc'   #这是一种编译连接方式\n",
    "'hello'+u'o'   #Unicode字符串？\n",
    "#4.3 只适用于字符串的操作符\n",
    "#4.3.1 格式化操作符\n",
    "'%f'%1.2\n",
    "'%c'%1   #将int或单字符转换成ASCII码\n",
    "'Host: %s Port: %d'%('mars',80)   #输入参数：元组\n",
    "'I am %(name)s, and my age is %(age)d'%{'name':'Jialou Gao','age':24}   #输入参数：字典\n",
    "#4.3.2 原始字符串操作符\n",
    "# 为了对付那些在字符串中出现的特殊字符，在原始字符串中，所有的字符都是直接按照字面的意思来使用\n",
    "r'abc%s'\n",
    "#4.3.3 Unicode字符串操作符"
   ]
  },
  {
   "cell_type": "code",
   "execution_count": 69,
   "metadata": {},
   "outputs": [
    {
     "data": {
      "text/plain": [
       "97"
      ]
     },
     "execution_count": 69,
     "metadata": {},
     "output_type": "execute_result"
    }
   ],
   "source": [
    "#内建函数\n",
    "#1. 标准类型函数\n",
    "#2. 序列类型函数，len，zip，enumerate\n",
    "#3. 字符串类型函数，str，chr,ord\n",
    "ord('a')"
   ]
  },
  {
   "cell_type": "code",
   "execution_count": 76,
   "metadata": {},
   "outputs": [
    {
     "data": {
      "text/plain": [
       "'what:is:your:favorite:subject?'"
      ]
     },
     "execution_count": 76,
     "metadata": {},
     "output_type": "execute_result"
    }
   ],
   "source": [
    "#字符串内建函数\n",
    "#调用方法是string.method()\n",
    "#有很多，下面举几个例子：\n",
    "quest = 'what is your favorite subject?'\n",
    "quest.capitalize()  #首字母大写\n",
    "quest.center(40)    #返回一个原字符串居中，并使用空格填充至长度为width的新字符串\n",
    "quest.count('a')    \n",
    "quest.endswith('t')\n",
    "quest.upper()\n",
    "':'.join(quest.split())"
   ]
  },
  {
   "cell_type": "code",
   "execution_count": null,
   "metadata": {},
   "outputs": [],
   "source": [
    "#字符串的独特特性\n",
    "#1. 特殊字符和控制字符\n",
    "#2. 三引号\n",
    "#3. 字符串的不变性"
   ]
  },
  {
   "cell_type": "code",
   "execution_count": 87,
   "metadata": {},
   "outputs": [
    {
     "name": "stdout",
     "output_type": "stream",
     "text": [
      "b'abc'\n",
      "abc\n"
     ]
    },
    {
     "data": {
      "text/plain": [
       "\"ab'abc'c\""
      ]
     },
     "execution_count": 87,
     "metadata": {},
     "output_type": "execute_result"
    }
   ],
   "source": [
    "#Unicode\n",
    "type('hello')\n",
    "type('你好')   #python3是不是已经把unicode和ascii合并了？\n",
    "#编码方式，utf-8\n",
    "#编码函数string.encode(),解码函数string.decode()\n",
    "print('abc'.encode('utf-8'))\n",
    "print('abc'.encode('utf-8').decode('utf-8'))"
   ]
  },
  {
   "cell_type": "code",
   "execution_count": 91,
   "metadata": {},
   "outputs": [
    {
     "data": {
      "text/plain": [
       "\"abc\\\\'abc\\\\'c\""
      ]
     },
     "execution_count": 91,
     "metadata": {},
     "output_type": "execute_result"
    }
   ],
   "source": [
    "'ab\\'abc\\'c'\n",
    "'abc\"abc\"c'"
   ]
  },
  {
   "cell_type": "code",
   "execution_count": 6,
   "metadata": {},
   "outputs": [
    {
     "name": "stdout",
     "output_type": "stream",
     "text": [
      "['a', 'b', 'c']\n",
      "['a', 'x', 'c', 'abc']\n"
     ]
    }
   ],
   "source": [
    "#列表是能保留任意数量的Python对象的灵活的容器\n",
    "#列表不仅可以包含Python的标准类型，还可以是用户定义的对象，可进行的操作也是多种多样\n",
    "# 1. 创建列表型数据和赋值\n",
    "aList = [1,2,3,'abc',.2+.21j]\n",
    "aList = list('abc')  #工厂方法\n",
    "print(aList)\n",
    "# 2. 如何访问列表中的元素\n",
    "aList[::-1]\n",
    "# 3. 如何更新数列\n",
    "aList[1] = 'x'\n",
    "aList\n",
    "aList.append('abc')  #列表的append()方法，在列表末尾添加元素\n",
    "print(aList)"
   ]
  },
  {
   "cell_type": "code",
   "execution_count": 16,
   "metadata": {},
   "outputs": [
    {
     "name": "stdout",
     "output_type": "stream",
     "text": [
      "['a', 'b', 'c', 'd']\n",
      "['a', 'b', 'c', 'd', 'a', 'b', 'c', 'd', 'a', 'b', 'c', 'd']\n",
      "['a', 'b', 'c']\n",
      "[1, 2, 3, [2, (0.2+2j)]]\n",
      "[-4, -2]\n"
     ]
    }
   ],
   "source": [
    "#列表的相关操作符\n",
    "#1. 标准类型操作符，如身份比较，值比较，逻辑\n",
    "#2. 序列类型操作符，如成员关系，连接，重复和切片\n",
    "'abc' not in aList\n",
    "aList = []\n",
    "aList += 'abcd'   #这里注意连接与append的区别\n",
    "print(aList)\n",
    "aList *= 3\n",
    "print(aList)\n",
    "aList = aList[:3]\n",
    "print(aList)\n",
    "#列表的元素可以是另一个序列类型\n",
    "aList = [1,2,3,['abc',0.2+2.j]]\n",
    "aList[3][0] = 2\n",
    "print(aList)\n",
    "# 3. 列表类型操作符和列表解析\n",
    "aList = [x-4 for x in range(3) if x%2 == 0]\n",
    "print(aList)"
   ]
  },
  {
   "cell_type": "code",
   "execution_count": 29,
   "metadata": {
    "collapsed": true
   },
   "outputs": [
    {
     "name": "stdout",
     "output_type": "stream",
     "text": [
      "3\n",
      "2\n",
      "1\n",
      "1\n",
      "2\n",
      "3\n",
      "b\n",
      "a\n",
      "AB\n",
      "0 a\n",
      "1 aa\n",
      "2 Jialou\n",
      "3 10\n",
      "1 a\n",
      "2 b\n",
      "3 c\n"
     ]
    },
    {
     "data": {
      "text/plain": [
       "(3.2+2j)"
      ]
     },
     "execution_count": 29,
     "metadata": {},
     "output_type": "execute_result"
    }
   ],
   "source": [
    "#与列表有关的内建函数\n",
    "# 1. 标准类型函数\n",
    "type([1,2])\n",
    "str([1,2])\n",
    "#2. 序列类型函数\n",
    "len([2,1,'bac'])\n",
    "max([3,2,0.2])  #复数没办法进行比较\n",
    "for i in reversed([1,2,3]):\n",
    "    print(i)\n",
    "for i in sorted([1,2,3]):\n",
    "    print(i)\n",
    "for i in sorted(['a','b','AB'],reverse = True):\n",
    "    print(i)\n",
    "for i,val in enumerate(['a','aa','Jialou',10]):\n",
    "    print(i,val) \n",
    "for i,j in zip([1,2,3],['a','b','c']):\n",
    "    print(i,j)\n",
    "sum([1,2,0.2+2.j])"
   ]
  },
  {
   "cell_type": "code",
   "execution_count": 35,
   "metadata": {},
   "outputs": [
    {
     "name": "stdout",
     "output_type": "stream",
     "text": [
      "['Jialou Gao', 9]\n",
      "['Jialou Gao', 9, 'EE student']\n",
      "[0.1, 1, 2]\n"
     ]
    }
   ],
   "source": [
    "#正如字符串一样，列表也由很多自己专属的方法\n",
    "#用dir()可以查看一个类型的所有属性和方法\n",
    "#dir(list)\n",
    "aList = [9]\n",
    "aList.insert(0,'Jialou Gao')\n",
    "print(aList)\n",
    "aList.append('EE student')\n",
    "print(aList)\n",
    "aList.index(9)\n",
    "aList = [1,2,0.1]\n",
    "aList.sort()   #内建函数是sorted()\n",
    "print(aList) "
   ]
  },
  {
   "cell_type": "code",
   "execution_count": 1,
   "metadata": {
    "collapsed": true
   },
   "outputs": [
    {
     "name": "stdout",
     "output_type": "stream",
     "text": [
      "\n",
      "    p(U)sh\n",
      "    p(O)p\n",
      "    (V)iew\n",
      "    (Q)uit\n",
      "    Enter choice: u\n",
      "You picked: [u]\n",
      "Please input a new string: Jialou Gao\n",
      "\n",
      "    p(U)sh\n",
      "    p(O)p\n",
      "    (V)iew\n",
      "    (Q)uit\n",
      "    Enter choice: v\n",
      "You picked: [v]\n",
      "['Jialou Gao']\n",
      "\n",
      "    p(U)sh\n",
      "    p(O)p\n",
      "    (V)iew\n",
      "    (Q)uit\n",
      "    Enter choice: u\n",
      "You picked: [u]\n",
      "Please input a new string: 2\n",
      "\n",
      "    p(U)sh\n",
      "    p(O)p\n",
      "    (V)iew\n",
      "    (Q)uit\n",
      "    Enter choice: v\n",
      "You picked: [v]\n",
      "['Jialou Gao', '2']\n",
      "\n",
      "    p(U)sh\n",
      "    p(O)p\n",
      "    (V)iew\n",
      "    (Q)uit\n",
      "    Enter choice: q\n",
      "You picked: [q]\n"
     ]
    }
   ],
   "source": [
    "#列表的一些特殊特性\n",
    "#用列表来构建其他的数据结构\n",
    "#1. 堆栈\n",
    "#后进先出的数据结构\n",
    "stack = []\n",
    "def pushit():\n",
    "    stack.append(input('Please input a new string: ').strip())\n",
    "def popit():\n",
    "    if len(stack) == 0:\n",
    "        print('There is nothing in the stack!')\n",
    "    else:\n",
    "        print('Removed [','stack.pop()',']')\n",
    "def viewstack():\n",
    "    print(stack)\n",
    "CMDs = {'u':pushit,'o':popit,'v':viewstack}\n",
    "def showmenu():\n",
    "    pr = \"\"\"\n",
    "    p(U)sh\n",
    "    p(O)p\n",
    "    (V)iew\n",
    "    (Q)uit\n",
    "    Enter choice: \"\"\"\n",
    "    while True:\n",
    "        while True:\n",
    "            try:\n",
    "                choice = input(pr).strip()[0].lower()\n",
    "            except (EOFError, KeyboardInterrupt, IndexError):\n",
    "                choice = 'q'\n",
    "            print('You picked: [%s]'%choice)\n",
    "            if choice not in 'uovq':\n",
    "                print('Invalid option, please try again.')\n",
    "            else:\n",
    "                break\n",
    "        if choice == 'q':\n",
    "            break\n",
    "        CMDs[choice]()\n",
    "showmenu()\n"
   ]
  },
  {
   "cell_type": "code",
   "execution_count": 6,
   "metadata": {},
   "outputs": [
    {
     "data": {
      "text/plain": [
       "tuple"
      ]
     },
     "execution_count": 6,
     "metadata": {},
     "output_type": "execute_result"
    }
   ],
   "source": [
    "#元组是跟列表一样相似的容器类型\n",
    "#元组是一种不可变类型，所以可以用来作为字典的Key；处理一组对象时，这个组默认就是元组类型；\n",
    "#只有一个元素的元组，需要在元组里面加一个逗号\n",
    "aTuple = (2,)\n",
    "aTuple\n",
    "tuple('abc')  #元组的工厂方法\n",
    "#采用切片的方法访问元组中的值\n",
    "aTuple[0]\n",
    "#元组是不可变类型，所以不能更新或者改变元组的元素,只能构造新的元组对象\n",
    "#所有的多对象的，逗号分隔的，没有明确用符号定义的，这些集合默认的类型都是元组\n",
    "a = 2,3,'ab'\n",
    "type(a)\n",
    "#所有函数返回的多对象都是元组类型"
   ]
  },
  {
   "cell_type": "code",
   "execution_count": 14,
   "metadata": {},
   "outputs": [
    {
     "name": "stdout",
     "output_type": "stream",
     "text": [
      "['Jane', ['saving', 100.0]] ['name', ['saving', 100.0]]\n",
      "['Jane', ['saving', 50.0]] ['name', ['saving', 50.0]]\n",
      "['Jane', ['saving', 150.0]] ['name', ['saving', 200.0]]\n"
     ]
    }
   ],
   "source": [
    "#对象赋值实际上是简单的对象引用，即当创建了一个对象然后把它赋给另一个变量时，Python并没有拷贝这个对象，而是拷贝了这个对象的引用\n",
    "person = ['name',['saving',100.0]]\n",
    "hubby = person[:]\n",
    "wifey = list(person)\n",
    "hubby[0] = 'Jane'  #wifey的名字没有改变\n",
    "print(hubby,wifey)\n",
    "hubby[1][1] = 50.0\n",
    "print(hubby,wifey)   #wifey的saving变了\n",
    "import copy\n",
    "wifey = copy.deepcopy(person)  #深拷贝，重新建了一个对象\n",
    "hubby[1][1] = 150.0\n",
    "wifey[1][1] = 200.0\n",
    "print(hubby,wifey)"
   ]
  }
 ],
 "metadata": {
  "kernelspec": {
   "display_name": "Python 3",
   "language": "python",
   "name": "python3"
  },
  "language_info": {
   "codemirror_mode": {
    "name": "ipython",
    "version": 3
   },
   "file_extension": ".py",
   "mimetype": "text/x-python",
   "name": "python",
   "nbconvert_exporter": "python",
   "pygments_lexer": "ipython3",
   "version": "3.7.4"
  }
 },
 "nbformat": 4,
 "nbformat_minor": 2
}
