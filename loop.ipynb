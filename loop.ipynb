{
 "cells": [
  {
   "cell_type": "markdown",
   "metadata": {},
   "source": [
    "# 模块引入时的一些用语\n",
    "import numpy\n",
    "import numpy as np\n",
    "from numpy import xxx\n",
    "from numpy import xxx as yyy"
   ]
  },
  {
   "cell_type": "code",
   "execution_count": 1,
   "metadata": {},
   "outputs": [
    {
     "data": {
      "text/plain": [
       "2.0"
      ]
     },
     "execution_count": 1,
     "metadata": {},
     "output_type": "execute_result"
    }
   ],
   "source": [
    "from math import sqrt\n",
    "sqrt(4)"
   ]
  },
  {
   "cell_type": "markdown",
   "metadata": {},
   "source": [
    "# 赋值魔法"
   ]
  },
  {
   "cell_type": "markdown",
   "metadata": {},
   "source": [
    "1. 序列解包"
   ]
  },
  {
   "cell_type": "code",
   "execution_count": 5,
   "metadata": {},
   "outputs": [
    {
     "data": {
      "text/plain": [
       "['b', 'c', 'd']"
      ]
     },
     "execution_count": 5,
     "metadata": {},
     "output_type": "execute_result"
    }
   ],
   "source": [
    "x,y,z= 1,2,3\n",
    "x,y=y,x\n",
    "x\n",
    "values = (1,2,3)\n",
    "x,y,z = values\n",
    "x\n",
    "a,b,*rest = [1,2,3,4,5]  #*号的变量是列表\n",
    "rest\n",
    "a,*b,c = 'abcde'\n",
    "b"
   ]
  },
  {
   "cell_type": "markdown",
   "metadata": {},
   "source": [
    "2. 链式赋值"
   ]
  },
  {
   "cell_type": "code",
   "execution_count": 6,
   "metadata": {},
   "outputs": [
    {
     "name": "stdout",
     "output_type": "stream",
     "text": [
      "1 1\n"
     ]
    }
   ],
   "source": [
    "x=y=1\n",
    "print(x,y)"
   ]
  },
  {
   "cell_type": "markdown",
   "metadata": {},
   "source": [
    "# 代码块\n",
    "代码块是一组语句，代码块通过缩进代码来创建"
   ]
  },
  {
   "cell_type": "markdown",
   "metadata": {},
   "source": [
    "# if语句"
   ]
  },
  {
   "cell_type": "code",
   "execution_count": 9,
   "metadata": {},
   "outputs": [
    {
     "name": "stdout",
     "output_type": "stream",
     "text": [
      "what is your name?dkjkj\n",
      "sorry, I don't know you!\n"
     ]
    }
   ],
   "source": [
    "name = input('what is your name?')\n",
    "if name.endswith('Gao'):\n",
    "    print('Hello, Mr. Gao!')\n",
    "elif name.endswith('Will'):\n",
    "    print('Hello, Mr. Will!')\n",
    "else:\n",
    "    print('sorry, I don\\'t know you!')"
   ]
  },
  {
   "cell_type": "markdown",
   "metadata": {},
   "source": [
    "# 更复杂的条件\n",
    "== > < != >= <= 这些是比较熟悉的\n",
    "另外还有一些关于对象的：\n",
    "x is y   （x和y指向同一个对象时）\n",
    "x is not y\n",
    "x in y  （x是容器y的成员）\n",
    "x not in y  （x不是容器y的成员）\n",
    "python 还支持链式比较，例如：\n",
    "0<price<2000\n",
    "## 布尔运算符\n",
    "and, or, not\n",
    "## 断言\n",
    "assert关键字"
   ]
  },
  {
   "cell_type": "code",
   "execution_count": 16,
   "metadata": {
    "collapsed": true
   },
   "outputs": [
    {
     "name": "stdout",
     "output_type": "stream",
     "text": [
      "please input a number:-1\n",
      "bad\n"
     ]
    },
    {
     "ename": "AssertionError",
     "evalue": "The number must be larger than 0",
     "output_type": "error",
     "traceback": [
      "\u001b[1;31m---------------------------------------------------------------------------\u001b[0m",
      "\u001b[1;31mAssertionError\u001b[0m                            Traceback (most recent call last)",
      "\u001b[1;32m<ipython-input-16-93c4c16520ca>\u001b[0m in \u001b[0;36m<module>\u001b[1;34m\u001b[0m\n\u001b[0;32m      8\u001b[0m \u001b[1;32melse\u001b[0m\u001b[1;33m:\u001b[0m\u001b[1;33m\u001b[0m\u001b[1;33m\u001b[0m\u001b[0m\n\u001b[0;32m      9\u001b[0m     \u001b[0mprint\u001b[0m\u001b[1;33m(\u001b[0m\u001b[1;34m'bad'\u001b[0m\u001b[1;33m)\u001b[0m\u001b[1;33m\u001b[0m\u001b[1;33m\u001b[0m\u001b[0m\n\u001b[1;32m---> 10\u001b[1;33m \u001b[1;32massert\u001b[0m \u001b[0mnum\u001b[0m \u001b[1;33m>\u001b[0m\u001b[1;36m0\u001b[0m\u001b[1;33m,\u001b[0m \u001b[1;34m'The number must be larger than 0'\u001b[0m\u001b[1;33m\u001b[0m\u001b[1;33m\u001b[0m\u001b[0m\n\u001b[0m",
      "\u001b[1;31mAssertionError\u001b[0m: The number must be larger than 0"
     ]
    }
   ],
   "source": [
    "x = y = [1,2,3]\n",
    "x is y\n",
    "x= [1,2,3]\n",
    "x is y\n",
    "num = int(input('please input a number:'))\n",
    "if num >0 and num <10:\n",
    "    print('good')\n",
    "else:\n",
    "    print('bad')\n",
    "assert num >0, 'The number must be larger than 0'"
   ]
  },
  {
   "cell_type": "markdown",
   "metadata": {},
   "source": [
    "# while 循环\n",
    "while condition:\n",
    "   program\n",
    "# for 循环"
   ]
  },
  {
   "cell_type": "code",
   "execution_count": 19,
   "metadata": {
    "collapsed": true
   },
   "outputs": [
    {
     "name": "stdout",
     "output_type": "stream",
     "text": [
      "gjl\n",
      "Jialou\n",
      "lj\n",
      "6\n",
      "5\n",
      "4\n",
      "3\n",
      "2\n",
      "1\n"
     ]
    }
   ],
   "source": [
    "names = ['gjl','Jialou','lj']\n",
    "for s in names:\n",
    "    print(s)\n",
    "num = [1,2,3,4,5,6]\n",
    "num1 = num[::-1]\n",
    "for n in num1:\n",
    "    print(n)"
   ]
  },
  {
   "cell_type": "markdown",
   "metadata": {},
   "source": [
    "python 提供了一个创建范围的内置函数"
   ]
  },
  {
   "cell_type": "code",
   "execution_count": 23,
   "metadata": {},
   "outputs": [
    {
     "name": "stdout",
     "output_type": "stream",
     "text": [
      "5050\n"
     ]
    }
   ],
   "source": [
    "num = list(range(1,7))   #需注意的是，与切片一样，第二个元素是不包含的\n",
    "num\n",
    "sum1 = 0\n",
    "for n in range(1,101):\n",
    "    sum1 += n\n",
    "print(sum1)"
   ]
  },
  {
   "cell_type": "markdown",
   "metadata": {},
   "source": [
    "# 迭代字典"
   ]
  },
  {
   "cell_type": "code",
   "execution_count": 25,
   "metadata": {},
   "outputs": [
    {
     "name": "stdout",
     "output_type": "stream",
     "text": [
      "key1 is 1\n",
      "key2 is 2\n",
      "key3 is 3\n"
     ]
    }
   ],
   "source": [
    "d = {'key1':1,'key2':2,'key3':3}\n",
    "for dn in d:\n",
    "    print(dn,'is',d[dn])"
   ]
  },
  {
   "cell_type": "markdown",
   "metadata": {},
   "source": [
    "# 跳出循环以及else子句\n",
    "break, continue, 循环中的else子句"
   ]
  },
  {
   "cell_type": "markdown",
   "metadata": {},
   "source": [
    "# 简单推导"
   ]
  },
  {
   "cell_type": "code",
   "execution_count": 28,
   "metadata": {},
   "outputs": [
    {
     "data": {
      "text/plain": [
       "[(0, 0), (0, 1), (0, 2), (1, 0), (1, 1), (1, 2)]"
      ]
     },
     "execution_count": 28,
     "metadata": {},
     "output_type": "execute_result"
    }
   ],
   "source": [
    "[x*x for x in range(10) if x%2 == 0]\n",
    "[(x,y) for x in range(2) for y in range(3)]"
   ]
  },
  {
   "cell_type": "markdown",
   "metadata": {},
   "source": [
    "# pass,del,exec和eval语句\n",
    "pass:什么也不做\n",
    "del：删除\n",
    "exec:执行字符串代表的语句\n",
    "eval：计算python表达式的值"
   ]
  }
 ],
 "metadata": {
  "kernelspec": {
   "display_name": "Python 3",
   "language": "python",
   "name": "python3"
  },
  "language_info": {
   "codemirror_mode": {
    "name": "ipython",
    "version": 3
   },
   "file_extension": ".py",
   "mimetype": "text/x-python",
   "name": "python",
   "nbconvert_exporter": "python",
   "pygments_lexer": "ipython3",
   "version": "3.7.4"
  }
 },
 "nbformat": 4,
 "nbformat_minor": 2
}
