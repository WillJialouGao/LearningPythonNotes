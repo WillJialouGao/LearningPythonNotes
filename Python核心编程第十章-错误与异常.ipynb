{
 "cells": [
  {
   "cell_type": "code",
   "execution_count": null,
   "metadata": {},
   "outputs": [],
   "source": [
    "# 一个“柔和”的处理错误的方式，而不是终止程序；提供更多更有用的诊断信息；\n",
    "# 什么是异常\n",
    "# 异常：因为程序出现了错误而在正常控制流以外采取的行为，分为两个阶段\n",
    "# 第一个阶段：只要检测到错误并且意识到异常条件，解释器会引发一个异常，引发也可以叫做触发；\n",
    "# 第二个阶段：异常发生后的操作\n",
    "# 程序运行时发生的错误主要是由于外部原因导致的，例如非法输入或是其他操作失败，程序员只能预见一部分错误，编写常见的补救措施代码；\n",
    "# python采用了“try”块和“捕获”块的概念，可以为不同的异常创建不同的处理器，而不是盲目地创建一个“捕获所有”的代码"
   ]
  },
  {
   "cell_type": "code",
   "execution_count": 5,
   "metadata": {
    "collapsed": true
   },
   "outputs": [
    {
     "ename": "FileNotFoundError",
     "evalue": "[Errno 2] No such file or directory: 'baa'",
     "output_type": "error",
     "traceback": [
      "\u001b[1;31m---------------------------------------------------------------------------\u001b[0m",
      "\u001b[1;31mFileNotFoundError\u001b[0m                         Traceback (most recent call last)",
      "\u001b[1;32m<ipython-input-5-c8291aee6634>\u001b[0m in \u001b[0;36m<module>\u001b[1;34m\u001b[0m\n\u001b[0;32m      6\u001b[0m \u001b[1;31m# 4. KeyError：请求一个不存在的字典关键字\u001b[0m\u001b[1;33m\u001b[0m\u001b[1;33m\u001b[0m\u001b[1;33m\u001b[0m\u001b[0m\n\u001b[0;32m      7\u001b[0m \u001b[1;31m# 5. IOError：输入/输出错误，类似尝试打开一个不存在的磁盘文件\u001b[0m\u001b[1;33m\u001b[0m\u001b[1;33m\u001b[0m\u001b[1;33m\u001b[0m\u001b[0m\n\u001b[1;32m----> 8\u001b[1;33m \u001b[0mf\u001b[0m \u001b[1;33m=\u001b[0m \u001b[0mopen\u001b[0m\u001b[1;33m(\u001b[0m\u001b[1;34m'baa'\u001b[0m\u001b[1;33m)\u001b[0m\u001b[1;33m\u001b[0m\u001b[1;33m\u001b[0m\u001b[0m\n\u001b[0m",
      "\u001b[1;31mFileNotFoundError\u001b[0m: [Errno 2] No such file or directory: 'baa'"
     ]
    }
   ],
   "source": [
    "# python中的异常\n",
    "# 所有错误，无论是语义上的还是逻辑上的，都是由于和Python解释器不相容导致的，其后果就是引发异常\n",
    "# 1. NameError：尝试访问一个未声明的变量\n",
    "# 2. ZeroDivisionError：除数为零\n",
    "# 3. IndexError：请求的索引超出序列范围\n",
    "# 4. KeyError：请求一个不存在的字典关键字\n",
    "# 5. IOError：输入/输出错误，类似尝试打开一个不存在的磁盘文件\n",
    "# 6. AttributeError: 尝试访问未知的对象属性"
   ]
  },
  {
   "cell_type": "code",
   "execution_count": 6,
   "metadata": {},
   "outputs": [
    {
     "name": "stdout",
     "output_type": "stream",
     "text": [
      "There is no such file in current directory...\n"
     ]
    }
   ],
   "source": [
    "# 检测和处理异常\n",
    "# 任何在try语句块里的代码都会被监测，检查有无异常发生\n",
    "# 一个try语句可以对应一个或多个except子句，但只能对应一个finally子句\n",
    "try:\n",
    "    fp = open('text')\n",
    "except IOError:\n",
    "    print('There is no such file in current directory...')\n",
    "# 在程序运行时，解释器尝试执行try块中的所有代码，如果代码完成后没有异常发生，执行流就会忽略except语句继续执行；\n",
    "# 而当except所指定的异常发生后，我们保存了错误的原因，控制流立即跳转到对应的处理(try子句的剩余语句将被忽略)"
   ]
  },
  {
   "cell_type": "code",
   "execution_count": 9,
   "metadata": {},
   "outputs": [
    {
     "data": {
      "text/plain": [
       "'object typle cannot be converted to float'"
      ]
     },
     "execution_count": 9,
     "metadata": {},
     "output_type": "execute_result"
    }
   ],
   "source": [
    "# 带有多个except的try语句\n",
    "# 首先尝试执行try子句，如果没有错误，忽略所有的except从句继续执行；如果发生异常，解释器将在这一串处理器中查找匹配的异常\n",
    "# 处理多个异常的except语句，处理多个异常时要求异常被放在一个元组里\n",
    "def safe_float(obj):\n",
    "    try:\n",
    "        return float(obj)\n",
    "    except ValueError:\n",
    "        return 'could not convert non-number to float'\n",
    "    except TypeError:\n",
    "        return 'object typle cannot be converted to float'\n",
    "safe_float(('abc','abc'))"
   ]
  },
  {
   "cell_type": "code",
   "execution_count": 10,
   "metadata": {
    "collapsed": true
   },
   "outputs": [
    {
     "ename": "SyntaxError",
     "evalue": "invalid syntax (<ipython-input-10-6a3c9e3e0e0e>, line 4)",
     "output_type": "error",
     "traceback": [
      "\u001b[1;36m  File \u001b[1;32m\"<ipython-input-10-6a3c9e3e0e0e>\"\u001b[1;36m, line \u001b[1;32m4\u001b[0m\n\u001b[1;33m    except TypeError,diag:\u001b[0m\n\u001b[1;37m         ^\u001b[0m\n\u001b[1;31mSyntaxError\u001b[0m\u001b[1;31m:\u001b[0m invalid syntax\n"
     ]
    }
   ],
   "source": [
    "# “异常参数”,好像python3中不支持这个？\n",
    "try:\n",
    "    float([1,2])\n",
    "    except TypeError,diag:\n",
    "        pass\n",
    "type(diag)\n"
   ]
  },
  {
   "cell_type": "code",
   "execution_count": null,
   "metadata": {},
   "outputs": [],
   "source": [
    "# else子句，else句段配合其他的python语句，比如条件和循环，至于在try-except语句中，它的功能和其他的else子句没有太多不同\n",
    "# 在try范围中没有异常被检测到时，执行else子句"
   ]
  },
  {
   "cell_type": "code",
   "execution_count": null,
   "metadata": {},
   "outputs": [],
   "source": [
    "# try-finally子句\n",
    "# 这个子句不是用来捕捉异常的，而是用来维持一致的行为\n",
    "# 当在try范围中产生一个异常时，会立即跳转到finally语句段，当finally语句段中的所有代码都执行完毕后，会继续向上一层引发异常"
   ]
  }
 ],
 "metadata": {
  "kernelspec": {
   "display_name": "Python 3",
   "language": "python",
   "name": "python3"
  },
  "language_info": {
   "codemirror_mode": {
    "name": "ipython",
    "version": 3
   },
   "file_extension": ".py",
   "mimetype": "text/x-python",
   "name": "python",
   "nbconvert_exporter": "python",
   "pygments_lexer": "ipython3",
   "version": "3.7.4"
  }
 },
 "nbformat": 4,
 "nbformat_minor": 2
}
