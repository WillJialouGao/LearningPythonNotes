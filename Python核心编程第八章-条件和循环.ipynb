{
 "cells": [
  {
   "cell_type": "code",
   "execution_count": 2,
   "metadata": {},
   "outputs": [
    {
     "name": "stdout",
     "output_type": "stream",
     "text": [
      "Please input a cmd:update\n",
      "update items\n",
      "update items\n"
     ]
    }
   ],
   "source": [
    "#python的if-else语句使用的是缩进，所以有效避免了“悬挂else”\n",
    "#if-elif-else语句\n",
    "#使用字典的一个最大的好处是它的搜索操作比类型if-elif-else的语句或是for循环查询要快很多，代码也更简洁\n",
    "user = {}\n",
    "user['cmd'] = input('Please input a cmd:')\n",
    "if user['cmd'] == 'create':\n",
    "    action = 'create items'\n",
    "elif user['cmd'] == 'delete':\n",
    "    action = 'delete items'\n",
    "elif user['cmd'] == 'update':\n",
    "    action = 'update items'\n",
    "else:\n",
    "    action = 'invalid choice, please try again'\n",
    "print(action)\n",
    "#上述语句如果用字典来表示：\n",
    "msgs = {'create':'create items','delete':'delete items','update':'update items'}\n",
    "if user['cmd'] in msgs:\n",
    "    print(msgs[user['cmd']])"
   ]
  },
  {
   "cell_type": "code",
   "execution_count": 3,
   "metadata": {},
   "outputs": [
    {
     "data": {
      "text/plain": [
       "3"
      ]
     },
     "execution_count": 3,
     "metadata": {},
     "output_type": "execute_result"
    }
   ],
   "source": [
    "#条件表达式(三元操作符)\n",
    "x,y = 4,3\n",
    "smaller = x if x<y else y  #与C语言的对比：C？x:y\n",
    "smaller"
   ]
  },
  {
   "cell_type": "code",
   "execution_count": 4,
   "metadata": {
    "collapsed": true
   },
   "outputs": [
    {
     "name": "stdout",
     "output_type": "stream",
     "text": [
      "the index is :0\n",
      "the index is :1\n",
      "the index is :2\n",
      "the index is :3\n",
      "the index is :4\n",
      "the index is :5\n",
      "the index is :6\n",
      "the index is :7\n",
      "the index is :8\n"
     ]
    }
   ],
   "source": [
    "#while语句\n",
    "#该语句在计数循环中经常用到\n",
    "count = 0\n",
    "while count < 9:\n",
    "    print('the index is :%d'%count)\n",
    "    count += 1"
   ]
  },
  {
   "cell_type": "code",
   "execution_count": 9,
   "metadata": {},
   "outputs": [
    {
     "name": "stdout",
     "output_type": "stream",
     "text": [
      "a\n",
      "b\n",
      "c\n",
      "0 abc\n",
      "1 1\n",
      "2 2\n"
     ]
    }
   ],
   "source": [
    "#for语句\n",
    "#最强大的循环结构，它可以遍历序列成员，可以用在列表解析和生成器(?)表达式中，它会自动调用迭代器的next()方法，捕获StopIteration异常并结束循环\n",
    "#也就是上述一切都是内部发生的，我们不需要管\n",
    "for eachCharacter in 'abc':   #字符串是可迭代对象\n",
    "    print(eachCharacter)\n",
    "#序列的迭代有三种方式，第一种是用序列本身迭代，另一种是用索引迭代，此时用for i in range(len(List))，因为range()返回了一个可迭代对象\n",
    "type(range(4))\n",
    "#还有一种是利用enumerate()方法，同时迭代索引和值\n",
    "for i, val in enumerate(['abc',1,2]):\n",
    "    print(i,val)"
   ]
  },
  {
   "cell_type": "code",
   "execution_count": null,
   "metadata": {},
   "outputs": [],
   "source": [
    "#用于迭代器类型\n",
    "#迭代器对象有一个next()方法，调用后返回下一个条目，所有条目迭代完后，迭代器引发一个StopIteration异常告诉程序循环结束"
   ]
  },
  {
   "cell_type": "code",
   "execution_count": 2,
   "metadata": {
    "collapsed": true
   },
   "outputs": [
    {
     "name": "stdout",
     "output_type": "stream",
     "text": [
      "2\n",
      "4\n",
      "6\n",
      "8\n",
      "10\n",
      "12\n"
     ]
    }
   ],
   "source": [
    "#range()内建函数\n",
    "#range()有三个参数，start,end,step = 1\n",
    "for i in range(2,13,2):   #python3中好像range()方法返回的是一个range对象(可迭代对象)了，不再是列表类型\n",
    "    print(i)\n",
    "#start默认为0，step默认为1\n",
    "#在Python3以及以后的版本中，返回的是一个可迭代对象，而不是一个列表，这样可以节省内存空间"
   ]
  },
  {
   "cell_type": "code",
   "execution_count": null,
   "metadata": {},
   "outputs": [],
   "source": [
    "#break语句\n",
    "#break语句用于结束当前循环然后跳转到下条语句"
   ]
  },
  {
   "cell_type": "code",
   "execution_count": null,
   "metadata": {},
   "outputs": [],
   "source": [
    "#continue语句\n",
    "#continue语句并不是“立即启动循环的下一次迭代”，实际上，当遇到continue语句时，会先验证条件，然后开始下一次迭代。"
   ]
  },
  {
   "cell_type": "code",
   "execution_count": null,
   "metadata": {},
   "outputs": [],
   "source": [
    "#pass语句\n",
    "#表示“不做任何事”\n",
    "def foo():\n",
    "    pass"
   ]
  },
  {
   "cell_type": "code",
   "execution_count": 4,
   "metadata": {
    "collapsed": true
   },
   "outputs": [
    {
     "name": "stdout",
     "output_type": "stream",
     "text": [
      "larget factor of 10 is 5\n",
      "11 is prime\n",
      "larget factor of 12 is 6\n",
      "13 is prime\n",
      "larget factor of 14 is 7\n",
      "larget factor of 15 is 5\n",
      "larget factor of 16 is 8\n",
      "17 is prime\n",
      "larget factor of 18 is 9\n",
      "19 is prime\n",
      "larget factor of 20 is 10\n"
     ]
    }
   ],
   "source": [
    "#特殊的else语句，用在while循环和for循环中\n",
    "def showMaxFactor(num):\n",
    "    count = int(num/2)\n",
    "    while count>1:\n",
    "        if num%count==0:\n",
    "            print('larget factor of %d is %d'%(num,count))\n",
    "            break\n",
    "        count -= 1\n",
    "    else:\n",
    "        print(num,'is prime')\n",
    "for eachNum in range(10,21):\n",
    "    showMaxFactor(eachNum)"
   ]
  },
  {
   "cell_type": "code",
   "execution_count": null,
   "metadata": {},
   "outputs": [],
   "source": [
    "#迭代器和iter()函数\n",
    "#为类序列对象提供了一个类序列接口，使得程序员可以迭代非序列对象\n",
    "#迭代不是序列但表现出序列行为的对象，例如字典的键、文件的行\n",
    "#迭代器就是有一个next()方法的对象，不是通过索引来计数。调用next()方法取出下一个元素，当已经到最后一个元素时则产生StopIteation异常\n",
    "#迭代器的一些限制，不能向后移动，不能复制一个迭代器\n",
    "#不过reversed()内建函数将返回一个反序访问的迭代器"
   ]
  },
  {
   "cell_type": "code",
   "execution_count": 6,
   "metadata": {},
   "outputs": [
    {
     "name": "stdout",
     "output_type": "stream",
     "text": [
      "12\n",
      "abc\n",
      "(1+0.2j)\n"
     ]
    }
   ],
   "source": [
    "#使用迭代器\n",
    "myTuple = (12,'abc',1.+0.2j)\n",
    "i = iter(myTuple)\n",
    "for ix in i:\n",
    "    print(ix)"
   ]
  },
  {
   "cell_type": "code",
   "execution_count": null,
   "metadata": {},
   "outputs": [],
   "source": [
    "#字典和文件是Python中另外两个可迭代的对象；字典的迭代器会遍历它的键，文件对象的迭代器会字典调用readline()方法"
   ]
  },
  {
   "cell_type": "code",
   "execution_count": null,
   "metadata": {},
   "outputs": [],
   "source": [
    "#如何创建一个迭代器？"
   ]
  },
  {
   "cell_type": "code",
   "execution_count": 9,
   "metadata": {
    "collapsed": true
   },
   "outputs": [
    {
     "data": {
      "text/plain": [
       "[(0, 0),\n",
       " (0, 1),\n",
       " (0, 2),\n",
       " (0, 3),\n",
       " (0, 4),\n",
       " (1, 0),\n",
       " (1, 1),\n",
       " (1, 2),\n",
       " (1, 3),\n",
       " (1, 4),\n",
       " (2, 0),\n",
       " (2, 1),\n",
       " (2, 2),\n",
       " (2, 3),\n",
       " (2, 4)]"
      ]
     },
     "execution_count": 9,
     "metadata": {},
     "output_type": "execute_result"
    }
   ],
   "source": [
    "#列表解析和生成器\n",
    "#列表解析的语法：[expr for iter_val in iterable]\n",
    "[x**2 for x in range(6)]\n",
    "#扩展版本的语法：[expr for iter_val in iterable if cond_expr]\n",
    "[x for x in range(12) if x%2==0]\n",
    "#矩阵样例\n",
    "[(x,y) for x in range(3) for y in range(5)]   #类似于嵌套循环\n"
   ]
  },
  {
   "cell_type": "code",
   "execution_count": null,
   "metadata": {},
   "outputs": [],
   "source": [
    "#生成器表达式\n",
    "#生成器是列表解析的一个扩展，暂时先不讨论，等到11章在详细学习，现在只需要知道它和列表解析是很相似的，不同是生成器是一个函数，且是一个\n",
    "#内存使用更友好的结构"
   ]
  }
 ],
 "metadata": {
  "kernelspec": {
   "display_name": "Python 3",
   "language": "python",
   "name": "python3"
  },
  "language_info": {
   "codemirror_mode": {
    "name": "ipython",
    "version": 3
   },
   "file_extension": ".py",
   "mimetype": "text/x-python",
   "name": "python",
   "nbconvert_exporter": "python",
   "pygments_lexer": "ipython3",
   "version": "3.7.4"
  }
 },
 "nbformat": 4,
 "nbformat_minor": 2
}
