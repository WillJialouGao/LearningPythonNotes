{
 "cells": [
  {
   "cell_type": "code",
   "execution_count": null,
   "metadata": {},
   "outputs": [],
   "source": [
    "#文件对象；文件系统的访问方法、文件执行\n",
    "#文件对象\n",
    "#文件对象不仅可以用来访问普通的磁盘文件，还可以访问任何其他类型抽象层面上的“文件”，一旦设置了“钩子”，就可以访问具有文件类型接口的其他对象\n",
    "#有很多处理“类文件”对象的情况，例如实时打开一个URL来获取Web界面，在另一个独立的进程中执行一个命令进行通信\n",
    "#内建函数open()返回一个文件对象，对该文件进行后续相关的操作都要用到它。还有很多函数也会返回文件对象或者类文件对象\n",
    "#这样处理的目的是可以使用通用的接口，在程序行为和实现上保持一致性\n",
    "#文件内建函数open()\n",
    "#fp = open(filename,access_mode = 'r',buffering = -1)"
   ]
  },
  {
   "cell_type": "code",
   "execution_count": null,
   "metadata": {},
   "outputs": [],
   "source": [
    "#文件内建方法\n",
    "#输入：read(),readline(),readlines()\n",
    "#readlines()会读取所有的行然后把他们作为一个字符串列表返回\n",
    "\n",
    "#输出：write()的功能和read()以及readline()刚好相反，它把含有文本数据或二进制数据块的字符串写入到文件中\n",
    "#writelines()方法针对列表的操作，接受一个字符串列表作为参数，将他们写入文件，但行结束符不会自动添加\n",
    "\n",
    "#文件内移动\n",
    "#seek()方法，可以在文件中移动文件指针到不同的位置\n",
    "\n",
    "#文件的迭代\n",
    "#可以使用file.readlines()来读取所有的数据\n",
    "#由于现在引入了迭代器和文件迭代，文件对象成为了它们自己的迭代器\n",
    "#for eachLine in f:...\n",
    "\n",
    "#文件的关闭\n",
    "#采用file.close()方法"
   ]
  },
  {
   "cell_type": "code",
   "execution_count": 5,
   "metadata": {
    "scrolled": true
   },
   "outputs": [
    {
     "name": "stdout",
     "output_type": "stream",
     "text": [
      "Please input a file name:text\n",
      "Please input a line ('.' for quit):Hi~\n",
      "Please input a line ('.' for quit):.\n"
     ]
    }
   ],
   "source": [
    "import os\n",
    "filename = input('Please input a file name:')\n",
    "fp = open(filename, 'w')\n",
    "while True:\n",
    "    aLine = input(\"Please input a line ('.' for quit):\")\n",
    "    if aLine != '.':\n",
    "        fp.write('%s %s'%(aLine, os.linesep))     #此处运用了os模块的属性\n",
    "    else:\n",
    "        break\n",
    "fp.close()"
   ]
  },
  {
   "cell_type": "code",
   "execution_count": 19,
   "metadata": {},
   "outputs": [],
   "source": [
    "fp = open('text','w+')\n",
    "fp.tell()   #返回当前在文件中的位置\n",
    "fp.write('test line 1\\n')\n",
    "fp.tell()\n",
    "fp.write('test line 2\\n')\n",
    "fp.tell()\n",
    "fp.seek(0)    #seek()方法在文件中移动\n",
    "fp.readline()\n",
    "fp.close()"
   ]
  },
  {
   "cell_type": "code",
   "execution_count": 22,
   "metadata": {},
   "outputs": [
    {
     "data": {
      "text/plain": [
       "'w+'"
      ]
     },
     "execution_count": 22,
     "metadata": {},
     "output_type": "execute_result"
    }
   ],
   "source": [
    "#文件对象除了方法之外，还有一些数据属性，这些属性保存文件对象相关的附加数据，如文件名、打开模式、是否已被关闭等\n",
    "fp.closed\n",
    "fp.name\n",
    "fp.mode"
   ]
  },
  {
   "cell_type": "code",
   "execution_count": null,
   "metadata": {},
   "outputs": [],
   "source": [
    "#标准文件\n",
    "#一般来说，只要程序一执行，就可以访问3个标准文件，分别是标准输入(一般指键盘)、标准输出(到显示器的缓冲输出)、标准错误(到显示器的非缓冲输出)\n",
    "#stdin,stdout,stderr,通过sys模块来访问这些文件的句柄"
   ]
  },
  {
   "cell_type": "code",
   "execution_count": null,
   "metadata": {},
   "outputs": [],
   "source": [
    "#命令行参数\n",
    "#sys模块通过sys.argv属性提供了对命令行参数的访问\n",
    "#命令行参数是调用某个程序时除程序名以外的其他参数"
   ]
  },
  {
   "cell_type": "code",
   "execution_count": null,
   "metadata": {},
   "outputs": [],
   "source": [
    "#对文件系统的访问大多通过python的os模块实现，该模块是Python访问操作系统功能的主要接口\n",
    "#os模块实际上只是真正加载的模块的前端，而真正的那个“模块”明显依赖于具体的操作系统\n",
    "#例如nt(win32),mac(macOS)等模块；但我们只要导入os模块，Python会选择正确的模块，而不需要考虑底层的工作\n",
    "#除了对进程和进程运行环境进行管理外，os模块还负责处理大部分文件系统操作，例如包括删除/重命名文件，遍历目录树，管理文件访问权限等\n",
    "#另一个模块os.path可以完成一些针对路径名的操作，提供的函数可以完成管理和操作文件路径名中的各个部分\n",
    "#os和os.path这两个模块提供了与平台和操作系统无关的统一的文件系统的访问方法"
   ]
  },
  {
   "cell_type": "code",
   "execution_count": 8,
   "metadata": {},
   "outputs": [
    {
     "name": "stdout",
     "output_type": "stream",
     "text": [
      "*** current temporaty directory:  C:\\Users\\10231\\Desktop\\temp\n",
      "*** creating example directory: \n",
      "*** new working directory: \n",
      "C:\\Users\\10231\\Desktop\\example\n",
      "*** original directory listing: \n",
      "[]\n",
      "*** creating test file...\n",
      "*** updated directory listing: \n",
      "['test']\n"
     ]
    }
   ],
   "source": [
    "import os\n",
    "for tmpdir in ('\\tmp',r'C:\\Users\\10231\\Desktop\\temp'):\n",
    "    if os.path.isdir(tmpdir):    #判断指定路径是否存在且为一个目录\n",
    "        break\n",
    "else:\n",
    "    print('no temp directory available')\n",
    "    tmpdir = ''\n",
    "if tmpdir:\n",
    "    os.chdir(tmpdir)        #改变当前工作目录\n",
    "    cwd = os.getcwd()       #返回当前工作目录\n",
    "    print('*** current temporaty directory: ',cwd)\n",
    "    \n",
    "    print('*** creating example directory: ')\n",
    "    os.mkdir(r'C:\\Users\\10231\\Desktop\\example')     #创建目录\n",
    "    os.chdir(r'C:\\Users\\10231\\Desktop\\example')     #改变当前工作目录\n",
    "    cwd = os.getcwd()                               #返回当前工作目录\n",
    "    print('*** new working directory: ')\n",
    "    print(cwd)\n",
    "    print('*** original directory listing: ')\n",
    "    print(os.listdir(cwd))                          #列出指定目录的文件\n",
    "    \n",
    "    print('*** creating test file...')              #在当前目录下创建一个测试文件\n",
    "    fobj = open('test','w')                         #创建一个没有后缀的文件test\n",
    "    fobj.write('foo\\n')\n",
    "    fobj.write('bar\\n')\n",
    "    fobj.close()\n",
    "    print('*** updated directory listing: ')\n",
    "    print(os.listdir(cwd))"
   ]
  },
  {
   "cell_type": "code",
   "execution_count": 12,
   "metadata": {},
   "outputs": [
    {
     "name": "stdout",
     "output_type": "stream",
     "text": [
      "*** renaming 'test' to 'filetest.txt'\n"
     ]
    }
   ],
   "source": [
    "print(\"*** renaming 'test' to 'filetest.txt'\")\n",
    "os.rename('test','filetest.txt')"
   ]
  },
  {
   "cell_type": "code",
   "execution_count": 17,
   "metadata": {},
   "outputs": [
    {
     "name": "stdout",
     "output_type": "stream",
     "text": [
      "C:\\Users\\10231\\Desktop\\example\\filetest.txt\n",
      "('C:\\\\Users\\\\10231\\\\Desktop\\\\example', 'filetest.txt')\n",
      "('filetest', '.txt')\n"
     ]
    }
   ],
   "source": [
    "path = os.path.join(cwd,os.listdir(cwd)[0])\n",
    "print(path)\n",
    "print(os.path.split(path))\n",
    "print(os.path.splitext(os.path.basename(path)))"
   ]
  },
  {
   "cell_type": "code",
   "execution_count": 21,
   "metadata": {},
   "outputs": [
    {
     "name": "stdout",
     "output_type": "stream",
     "text": [
      "*** displaying file contents: \n",
      "foo\n",
      "\n",
      "bar\n",
      "\n"
     ]
    }
   ],
   "source": [
    "print('*** displaying file contents: ')\n",
    "fobj = open(path)\n",
    "for eachLine in fobj:\n",
    "    print(eachLine)\n",
    "fobj.close()"
   ]
  },
  {
   "cell_type": "code",
   "execution_count": 24,
   "metadata": {},
   "outputs": [],
   "source": [
    "#os.remove(path)\n",
    "os.chdir(os.pardir)\n",
    "os.rmdir(r'C:\\Users\\10231\\Desktop\\example')"
   ]
  },
  {
   "cell_type": "code",
   "execution_count": null,
   "metadata": {},
   "outputs": [],
   "source": [
    "#python的执行环境机制，后面再进行学习"
   ]
  }
 ],
 "metadata": {
  "kernelspec": {
   "display_name": "Python 3",
   "language": "python",
   "name": "python3"
  },
  "language_info": {
   "codemirror_mode": {
    "name": "ipython",
    "version": 3
   },
   "file_extension": ".py",
   "mimetype": "text/x-python",
   "name": "python",
   "nbconvert_exporter": "python",
   "pygments_lexer": "ipython3",
   "version": "3.7.4"
  }
 },
 "nbformat": 4,
 "nbformat_minor": 2
}
