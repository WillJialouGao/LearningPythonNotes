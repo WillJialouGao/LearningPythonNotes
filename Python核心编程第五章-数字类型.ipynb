{
 "cells": [
  {
   "cell_type": "code",
   "execution_count": 6,
   "metadata": {},
   "outputs": [
    {
     "data": {
      "text/plain": [
       "20000000000.0"
      ]
     },
     "execution_count": 6,
     "metadata": {},
     "output_type": "execute_result"
    }
   ],
   "source": [
    "#各种数字类型，它们适用的操作符以及处理数字的内建函数，标准库中处理数字的模块\n",
    "#数字提供了标量存储和直接访问，是不可更改类型，即变更数字就会创建新的对象\n",
    "#python支持一下数字类型：整型、长整型、布尔型、双精度浮点型、十进制型和复数\n",
    "type(12324343333333333333333333)\n",
    "type(True)\n",
    "#python3已经统一了整型和长整型\n",
    "2<<128\n",
    "2e10   #浮点数的使用方式"
   ]
  },
  {
   "cell_type": "code",
   "execution_count": 11,
   "metadata": {},
   "outputs": [
    {
     "data": {
      "text/plain": [
       "(0.2+1.2j)"
      ]
     },
     "execution_count": 11,
     "metadata": {},
     "output_type": "execute_result"
    }
   ],
   "source": [
    "#复数\n",
    "type(.2+1.2j)\n",
    "#虚数不能单独存在\n",
    "#复数对象具有实数和虚数这两个数据内建属性，还有一个方法conjugate()\n",
    "aComplex = .2+1.2j\n",
    "aComplex.real\n",
    "aComplex.imag\n",
    "aComplex.conjugate()  #但不会改变原对象的值\n",
    "aComplex"
   ]
  },
  {
   "cell_type": "code",
   "execution_count": 27,
   "metadata": {},
   "outputs": [
    {
     "data": {
      "text/plain": [
       "9"
      ]
     },
     "execution_count": 27,
     "metadata": {},
     "output_type": "execute_result"
    }
   ],
   "source": [
    "#算术操作符\n",
    "2**3\n",
    "(.2+.1j)**2\n",
    "-(.2-2.1j)\n",
    "(2.+.221j)*(.2-0.2j)\n",
    "(2.+.221j)/(.2-0.2j)\n",
    "2//3\n",
    "2%3\n",
    "#位操作符，只针对整型\n",
    "num = 100\n",
    "~num\n",
    "num = 1\n",
    "num<<20\n",
    "num>>40\n",
    "num1 = 1\n",
    "num2 = 8\n",
    "num1 & num2\n",
    "num1 | num2\n",
    "num1 ^ num2  #异或"
   ]
  },
  {
   "cell_type": "code",
   "execution_count": 52,
   "metadata": {},
   "outputs": [
    {
     "data": {
      "text/plain": [
       "'a'"
      ]
     },
     "execution_count": 52,
     "metadata": {},
     "output_type": "execute_result"
    }
   ],
   "source": [
    "#内建函数与工厂函数\n",
    "#1. 标准类型函数\n",
    "str(1.+0.2j)\n",
    "type(1.+.2j)\n",
    "#2. 数字类型函数\n",
    "#2.1 转换工厂函数\n",
    "int('1')\n",
    "int(1.2)\n",
    "#int(1.2+0.2j)  报错，不能把复数类型转化为整型类型\n",
    "float('1.222')\n",
    "float(1)\n",
    "#float(2.+2.j)\n",
    "complex(1) \n",
    "complex(2,1)   #这个很重要\n",
    "#2.2 数字功能函数\n",
    "abs(-12.)\n",
    "abs(.2+1.j)\n",
    "#coerce()函数，数字类型转换函数\n",
    "#coerce(.2,.2+.0j)  python3好像没有？\n",
    "#divmod(),返回包含商和余数的数组\n",
    "divmod(2,3)\n",
    "#pow()\n",
    "pow(.2+1.2j,3)\n",
    "#round()\n",
    "round(.2)  #四舍五入操作\n",
    "#仅用于整型的函数\n",
    "#进制转换函数\n",
    "hex(100)\n",
    "oct(100)\n",
    "#ASCII转换函数\n",
    "ord('a')\n",
    "ord(' ')\n",
    "ord('%')\n",
    "chr(97)"
   ]
  },
  {
   "cell_type": "code",
   "execution_count": 55,
   "metadata": {},
   "outputs": [
    {
     "data": {
      "text/plain": [
       "False"
      ]
     },
     "execution_count": 55,
     "metadata": {},
     "output_type": "execute_result"
    }
   ],
   "source": [
    "#其他数字类型\n",
    "#bool型\n",
    "bool(2)\n",
    "bool(0)\n",
    "bool([])"
   ]
  },
  {
   "cell_type": "code",
   "execution_count": 57,
   "metadata": {},
   "outputs": [
    {
     "name": "stdout",
     "output_type": "stream",
     "text": [
      "2.4\n"
     ]
    }
   ],
   "source": [
    "#decimal\n",
    "#用于数值计算的特殊的类\n",
    "from decimal import Decimal \n",
    "dec1 = Decimal('1.2')\n",
    "dec = dec1 + Decimal('1.2')\n",
    "print(dec)"
   ]
  }
 ],
 "metadata": {
  "kernelspec": {
   "display_name": "Python 3",
   "language": "python",
   "name": "python3"
  },
  "language_info": {
   "codemirror_mode": {
    "name": "ipython",
    "version": 3
   },
   "file_extension": ".py",
   "mimetype": "text/x-python",
   "name": "python",
   "nbconvert_exporter": "python",
   "pygments_lexer": "ipython3",
   "version": "3.7.4"
  }
 },
 "nbformat": 4,
 "nbformat_minor": 2
}
