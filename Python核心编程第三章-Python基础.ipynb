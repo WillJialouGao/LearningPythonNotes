{
 "cells": [
  {
   "cell_type": "code",
   "execution_count": 1,
   "metadata": {},
   "outputs": [
    {
     "name": "stdout",
     "output_type": "stream",
     "text": [
      "[1, 2, 'abc']\n"
     ]
    }
   ],
   "source": [
    "#基本的语法和编程风格\n",
    "#注释，\\换行继续，代码块及缩进，；是同一行书写多条代码\n",
    "a = [1,2\n",
    "    ,'abc']\n",
    "print(a)"
   ]
  },
  {
   "cell_type": "code",
   "execution_count": 5,
   "metadata": {},
   "outputs": [
    {
     "data": {
      "text/plain": [
       "('Jialou Gao', 1)"
      ]
     },
     "execution_count": 5,
     "metadata": {},
     "output_type": "execute_result"
    }
   ],
   "source": [
    "#Python中的赋值语句\n",
    "x = 1\n",
    "x += 1  #增量赋值语句\n",
    "x\n",
    "y = x = 2   #多重赋值语句\n",
    "y,x\n",
    "x , y = 1, 'Jialou Gao'  #多元赋值语句，这个说法是写书的人自创的，其实就是元组的赋值\n",
    "x,y \n",
    "x,y = y,x   #交换\n",
    "x,y"
   ]
  },
  {
   "cell_type": "code",
   "execution_count": null,
   "metadata": {},
   "outputs": [],
   "source": [
    "#标识符和关键字，内建函数\n",
    "#标识符必须以字母或者下划线开头\n",
    "#Python的关键字不能作为标识符，keyword模块可查看关键字\n",
    "#专用下划线标识符也不能作为变量的标识符，所以最好避免采用下划线开头\n"
   ]
  }
 ],
 "metadata": {
  "kernelspec": {
   "display_name": "Python 3",
   "language": "python",
   "name": "python3"
  },
  "language_info": {
   "codemirror_mode": {
    "name": "ipython",
    "version": 3
   },
   "file_extension": ".py",
   "mimetype": "text/x-python",
   "name": "python",
   "nbconvert_exporter": "python",
   "pygments_lexer": "ipython3",
   "version": "3.7.4"
  }
 },
 "nbformat": 4,
 "nbformat_minor": 2
}
